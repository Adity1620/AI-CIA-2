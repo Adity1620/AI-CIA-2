{
  "nbformat": 4,
  "nbformat_minor": 0,
  "metadata": {
    "colab": {
      "provenance": []
    },
    "kernelspec": {
      "name": "python3",
      "display_name": "Python 3"
    },
    "language_info": {
      "name": "python"
    }
  },
  "cells": [
    {
      "cell_type": "code",
      "execution_count": 7,
      "metadata": {
        "colab": {
          "base_uri": "https://localhost:8080/"
        },
        "id": "h26-HLMNGbUB",
        "outputId": "5927aa66-97f4-4f87-cadb-b2d34d3b842a"
      },
      "outputs": [
        {
          "output_type": "stream",
          "name": "stdout",
          "text": [
            "Enter prompt 1 (length 4): SNU_\n",
            "Enter prompt 2 (length 4): U_CH\n",
            "Enter prompt 3 (length 4): CHEN\n",
            "Enter prompt 4 (length 4): ENNA\n",
            "Enter prompt 5 (length 4): NAI\n",
            "['SNU_CH', 'U_CHEN', 'CHENNA', 'ENNAI']\n",
            "['SNU_CHEN', 'U_CHENNA', 'CHENNAI']\n",
            "['SNU_CHENNA', 'U_CHENNAI']\n",
            "['SNU_CHENNAI']\n",
            "['SNU_CHENNAI']\n"
          ]
        }
      ],
      "source": [
        "def combine_prompts(prompts, length):\n",
        "    result = []\n",
        "    for i in range(len(prompts) - 1):\n",
        "        prompt1 = prompts[i]\n",
        "        prompt2 = prompts[i + 1]\n",
        "        for j in range(len(prompt1) - length + 1):\n",
        "            substr1 = prompt1[j:j + length]\n",
        "            for k in range(len(prompt2) - length + 1):\n",
        "                substr2 = prompt2[k:k + length]\n",
        "                if substr1 == substr2:\n",
        "                    result.append(prompt1 + prompt2[k + length:])\n",
        "    return result\n",
        "\n",
        "prompts = []\n",
        "for i in range(5):\n",
        "    prompt = input(\"Enter prompt {} (length 4): \".format(i + 1))\n",
        "    prompts.append(prompt)\n",
        "\n",
        "result = prompts\n",
        "for length in [2, 4, 6, 8]:\n",
        "    result = combine_prompts(result, length)\n",
        "    print(result)"
      ]
    },
    {
      "cell_type": "code",
      "source": [],
      "metadata": {
        "id": "FsHDPK7CKOM0"
      },
      "execution_count": 5,
      "outputs": []
    },
    {
      "cell_type": "code",
      "source": [],
      "metadata": {
        "id": "ugSIRmQmK0p_"
      },
      "execution_count": null,
      "outputs": []
    }
  ]
}